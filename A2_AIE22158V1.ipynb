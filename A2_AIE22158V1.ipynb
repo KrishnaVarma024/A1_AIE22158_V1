{
 "cells": [
  {
   "cell_type": "code",
   "execution_count": 17,
   "metadata": {},
   "outputs": [],
   "source": [
    "# Question 1\n",
    "#Write a function to calculate the Euclidean distance and Manhattan distance between two vectors. \n",
    "#The vectors dimension is variable. Please don’t use any distance calculation functions available in Python.\n",
    "def distCalculator(v1,v2):\n",
    "    ch=input(\"Manhattan or Eucledian (M/E) : \")\n",
    "    V=[]\n",
    "    if ch.lower()==\"e\":\n",
    "        try:\n",
    "            V.append(v1)\n",
    "            V.append(v2)\n",
    "            sum=0\n",
    "            for i in range(len(V)+1):\n",
    "                sum+=(V[0][i]-V[1][i])**2\n",
    "            distance=sum**(1/2)\n",
    "            return distance\n",
    "        except:\n",
    "            return \" Vectors must be of same dimensions\"\n",
    "    elif ch.lower()==\"m\":\n",
    "        try:\n",
    "            V.append(v1)\n",
    "            V.append(v2)\n",
    "            sum=0\n",
    "            for i in range(len(V)+1):\n",
    "                sum+=abs(V[0][i]-V[1][i])\n",
    "            distance=sum\n",
    "            return distance\n",
    "        except:\n",
    "            return \" Vectors must be of same dimensions\"\n",
    "v1=[1,2,3]\n",
    "v2=[2,2,2]"
   ]
  },
  {
   "cell_type": "code",
   "execution_count": 18,
   "metadata": {},
   "outputs": [],
   "source": [
    "# Question 2\n",
    "#Write a function to implement k-NN classifier. k is a variable and based on that the count of neighbors should be selected\n",
    "def knn_classifier(X, y, k):\n",
    "    predicted_labels = []\n",
    "    \n",
    "    for i in range(len(X)):\n",
    "        distances = []\n",
    "        for j in range(len(X)):\n",
    "            distance = 0\n",
    "            for m in range(len(X[i])):\n",
    "                distance += (X[i][m] - X[j][m])**2\n",
    "            distances.append(distance**0.5)\n",
    "        \n",
    "        nearest_indices = sorted(range(len(distances)), key=lambda x: distances[x])[:k]\n",
    "        nearest_labels = [y[idx] for idx in nearest_indices]\n",
    "        \n",
    "        unique_labels = list(set(nearest_labels))\n",
    "        counts = [nearest_labels.count(label) for label in unique_labels]\n",
    "        \n",
    "        predicted_label = unique_labels[counts.index(max(counts))]\n",
    "        predicted_labels.append(predicted_label)\n",
    "    \n",
    "    return predicted_labels"
   ]
  },
  {
   "cell_type": "code",
   "execution_count": 21,
   "metadata": {},
   "outputs": [],
   "source": [
    "# Question 3\n",
    "#Write a function to convert categorical variables to numeric using label encoding. Don’t use any existing functionalities.\n",
    "def labelEncoding(category):\n",
    "    labels=[i+1 for i in range(len(category))]\n",
    "    encoding=dict(zip(labels,category))\n",
    "    return encoding\n",
    "\n",
    "# colors=[\"blue\",\"green\",\"yellow\",\"red\"]\n",
    "# Colors=labelEncoding(colors)\n",
    "# print(Colors)"
   ]
  },
  {
   "cell_type": "code",
   "execution_count": 13,
   "metadata": {},
   "outputs": [],
   "source": [
    "\n",
    "# Question 4\n",
    "#Write a function to convert categorical variables to numeric using One-Hotencoding. Don’t use any existing functionalities.\n",
    "def onehotEncoding(category):\n",
    "    values=list(set(category))\n",
    "    labels = [[0 for i in range(len(category))] for i in range(len(values))]\n",
    "    for v in range(len(values)):    \n",
    "        for i in range(len(category)):\n",
    "            if values[v]==category[i]:\n",
    "                labels[v][i]=1\n",
    "    encoding=dict(zip(values,labels))\n",
    "    return encoding\n",
    "\n",
    "# colors=[\"blue\",\"green\",\"blue\",\"red\"]\n",
    "# Colors=onehotEncoding(colors)\n",
    "# print(Colors)\n",
    "\n"
   ]
  }
 ],
 "metadata": {
  "kernelspec": {
   "display_name": "Python 3",
   "language": "python",
   "name": "python3"
  },
  "language_info": {
   "codemirror_mode": {
    "name": "ipython",
    "version": 3
   },
   "file_extension": ".py",
   "mimetype": "text/x-python",
   "name": "python",
   "nbconvert_exporter": "python",
   "pygments_lexer": "ipython3",
   "version": "3.11.7"
  }
 },
 "nbformat": 4,
 "nbformat_minor": 2
}
