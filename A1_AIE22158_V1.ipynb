{
 "cells": [
  {
   "cell_type": "code",
   "execution_count": 4,
   "metadata": {},
   "outputs": [
    {
     "name": "stdout",
     "output_type": "stream",
     "text": [
      "Number of vowels are: 2\n",
      "number of consonents 6\n"
     ]
    }
   ],
   "source": [
    "#SET B QUESTION - 01\n",
    "string=input(\"Enter string:\")\n",
    "vowels=0\n",
    "vowel=\"aeiouAEIOU\"\n",
    "for i in string:\n",
    "      if i in vowel:\n",
    "            vowels=vowels+1\n",
    "consonents=len(string)-vowels\n",
    "print(f\"Number of vowels are: {vowels}\")\n",
    "print(f\"number of consonents {consonents}\")"
   ]
  },
  {
   "cell_type": "code",
   "execution_count": 3,
   "metadata": {},
   "outputs": [
    {
     "name": "stdout",
     "output_type": "stream",
     "text": [
      "Enter the elements for a 3x3 matrix:\n",
      "Enter the elements for a 3x3 matrix:\n",
      "[6.0, 12.0, 18.0]\n",
      "[6.0, 12.0, 18.0]\n",
      "[6.0, 12.0, 18.0]\n"
     ]
    }
   ],
   "source": [
    "# SET B QUESTION - 02\n",
    "def input_matrix(rows, cols):\n",
    "    matrix = []\n",
    "    print(f\"Enter the elements for a {rows}x{cols} matrix:\")\n",
    "    for i in range(rows):\n",
    "        row = []\n",
    "        for j in range(cols):\n",
    "            element = float(input(f\"Enter element at position ({i+1}, {j+1}): \"))\n",
    "            row.append(element)\n",
    "        matrix.append(row)\n",
    "    return matrix\n",
    "\n",
    "\n",
    "def matrix_multiply(A, B):\n",
    "    rows_A, cols_A = len(A), len(A[0])\n",
    "    rows_B, cols_B = len(B), len(B[0])\n",
    "\n",
    "    if cols_A != rows_B:\n",
    "        return \"Error: Matrices cannot be multiplied; since the number of columns in A is not equal to the number of rows in B.\"\n",
    "    \n",
    "    result = [[0 for _ in range(cols_B)] for _ in range(rows_A)]\n",
    "\n",
    "    for i in range(rows_A):\n",
    "        for j in range(cols_B):\n",
    "            for k in range(cols_A):\n",
    "                result[i][j] += A[i][k] * B[k][j]\n",
    "\n",
    "    return result\n",
    "\n",
    "def main():\n",
    "    rows_A = int(input(\"Enter the number of rows for matrix A: \"))\n",
    "    cols_A = int(input(\"Enter the number of columns for matrix A: \"))\n",
    "    matrix_A = input_matrix(rows_A, cols_A)\n",
    "\n",
    "    rows_B = int(input(\"Enter the number of rows for matrix B: \"))\n",
    "    cols_B = int(input(\"Enter the number of columns for matrix B: \"))\n",
    "    matrix_B = input_matrix(rows_B, cols_B)\n",
    "\n",
    "    \n",
    "\n",
    "    result = matrix_multiply(matrix_A, matrix_B)\n",
    "    for i in result:\n",
    "        print(i,end=\"\\n\")\n",
    "if __name__ == \"__main__\":\n",
    "    main()\n",
    "\n",
    "\n"
   ]
  },
  {
   "cell_type": "code",
   "execution_count": 15,
   "metadata": {},
   "outputs": [
    {
     "name": "stdout",
     "output_type": "stream",
     "text": [
      "enter the values inside the list : \n",
      "[4, 43, 4, 4]\n",
      "enter the values inside the list : \n",
      "[4, 4, 5, 5]\n",
      "the similiar elements are [4, 4, 4, 4, 4, 4]\n"
     ]
    }
   ],
   "source": [
    "#SET B QUESTION - 03\n",
    "list1  =[]\n",
    "size = int(input(\"Enter the size of the list  :\"))\n",
    "\n",
    "print(\"enter the values inside the list : \")\n",
    "\n",
    "for i in range(0,size):\n",
    "    values = int(input())\n",
    "    list1.append(values)\n",
    "\n",
    "print(list1)\n",
    "\n",
    "list2  =[]\n",
    "size2 = int(input(\"Enter the size of the list  :\"))\n",
    "3\n",
    "print(\"enter the values inside the list : \")\n",
    "\n",
    "for i in range(0,size2):\n",
    "    values = int(input())\n",
    "    list2.append(values)\n",
    "\n",
    "print(list2)\n",
    "\n",
    "similar_elements = []\n",
    "\n",
    "for a in list1:\n",
    "    for b in list2:\n",
    "        if a == b:\n",
    "            similar_elements.append(a)\n",
    "\n",
    "\n",
    "print(f\"the similiar elements are {similar_elements}\")"
   ]
  },
  {
   "cell_type": "code",
   "execution_count": 30,
   "metadata": {},
   "outputs": [
    {
     "name": "stdout",
     "output_type": "stream",
     "text": [
      "Enter the elements for matrix A:\n",
      "Matrix A:\n",
      "[12, 3]\n",
      "[4, 13]\n",
      "Transpose of Matrix A:\n",
      "[12, 4]\n",
      "[3, 13]\n"
     ]
    }
   ],
   "source": [
    "#SET B, QUESTION - 04\n",
    "\n",
    "rows = int(input(\"Enter the rows: \"))\n",
    "columns = int(input(\"Enter the columns: \"))\n",
    "\n",
    "A = []\n",
    "\n",
    "print(\"Enter the elements for matrix A:\")\n",
    "for i in range(rows):\n",
    "    a = []\n",
    "    for j in range(columns):\n",
    "        values = int(input(f\"Enter element at position ({i+1}, {j+1}): \"))\n",
    "        a.append(values)\n",
    "    A.append(a)\n",
    "\n",
    "print(\"Matrix A:\")\n",
    "for row in A:\n",
    "    print(row)\n",
    "\n",
    "\n",
    "transpose_A = [[A[j][i] for j in range(rows)] for i in range(columns)]\n",
    "\n",
    "\n",
    "print(\"Transpose of Matrix A:\")\n",
    "for row in transpose_A:\n",
    "    print(row)\n"
   ]
  }
 ],
 "metadata": {
  "kernelspec": {
   "display_name": "Python 3",
   "language": "python",
   "name": "python3"
  },
  "language_info": {
   "codemirror_mode": {
    "name": "ipython",
    "version": 3
   },
   "file_extension": ".py",
   "mimetype": "text/x-python",
   "name": "python",
   "nbconvert_exporter": "python",
   "pygments_lexer": "ipython3",
   "version": "3.11.7"
  }
 },
 "nbformat": 4,
 "nbformat_minor": 2
}
