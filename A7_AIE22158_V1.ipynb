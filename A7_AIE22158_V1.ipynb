{
 "cells": [
  {
   "cell_type": "code",
   "execution_count": 4,
   "metadata": {},
   "outputs": [
    {
     "name": "stdout",
     "output_type": "stream",
     "text": [
      "Decision Tree Accuracy: 0.34\n",
      "Random Forest Accuracy: 0.296\n",
      "AdaBoost Accuracy: 0.308\n"
     ]
    },
    {
     "name": "stderr",
     "output_type": "stream",
     "text": [
      "/opt/homebrew/Caskroom/miniconda/base/lib/python3.11/site-packages/sklearn/model_selection/_search.py:307: UserWarning: The total space of parameters 4 is smaller than n_iter=5. Running 4 iterations. For exhaustive searches, use GridSearchCV.\n",
      "  warnings.warn(\n",
      "/opt/homebrew/Caskroom/miniconda/base/lib/python3.11/site-packages/sklearn/model_selection/_split.py:737: UserWarning: The least populated class in y has only 1 members, which is less than n_splits=3.\n",
      "  warnings.warn(\n",
      "/opt/homebrew/Caskroom/miniconda/base/lib/python3.11/site-packages/sklearn/neural_network/_multilayer_perceptron.py:691: ConvergenceWarning: Stochastic Optimizer: Maximum iterations (1000) reached and the optimization hasn't converged yet.\n",
      "  warnings.warn(\n",
      "/opt/homebrew/Caskroom/miniconda/base/lib/python3.11/site-packages/sklearn/neural_network/_multilayer_perceptron.py:691: ConvergenceWarning: Stochastic Optimizer: Maximum iterations (1000) reached and the optimization hasn't converged yet.\n",
      "  warnings.warn(\n",
      "/opt/homebrew/Caskroom/miniconda/base/lib/python3.11/site-packages/sklearn/neural_network/_multilayer_perceptron.py:691: ConvergenceWarning: Stochastic Optimizer: Maximum iterations (1000) reached and the optimization hasn't converged yet.\n",
      "  warnings.warn(\n",
      "/opt/homebrew/Caskroom/miniconda/base/lib/python3.11/site-packages/sklearn/neural_network/_multilayer_perceptron.py:691: ConvergenceWarning: Stochastic Optimizer: Maximum iterations (1000) reached and the optimization hasn't converged yet.\n",
      "  warnings.warn(\n",
      "/opt/homebrew/Caskroom/miniconda/base/lib/python3.11/site-packages/sklearn/neural_network/_multilayer_perceptron.py:691: ConvergenceWarning: Stochastic Optimizer: Maximum iterations (1000) reached and the optimization hasn't converged yet.\n",
      "  warnings.warn(\n",
      "/opt/homebrew/Caskroom/miniconda/base/lib/python3.11/site-packages/sklearn/neural_network/_multilayer_perceptron.py:691: ConvergenceWarning: Stochastic Optimizer: Maximum iterations (1000) reached and the optimization hasn't converged yet.\n",
      "  warnings.warn(\n",
      "/opt/homebrew/Caskroom/miniconda/base/lib/python3.11/site-packages/sklearn/neural_network/_multilayer_perceptron.py:691: ConvergenceWarning: Stochastic Optimizer: Maximum iterations (1000) reached and the optimization hasn't converged yet.\n",
      "  warnings.warn(\n"
     ]
    },
    {
     "name": "stdout",
     "output_type": "stream",
     "text": [
      "MLP Best Score: 0.3102409638554217\n",
      "MLP Best Params: {'mlpclassifier__hidden_layer_sizes': (50,), 'mlpclassifier__activation': 'tanh'}\n"
     ]
    },
    {
     "name": "stderr",
     "output_type": "stream",
     "text": [
      "/opt/homebrew/Caskroom/miniconda/base/lib/python3.11/site-packages/sklearn/neural_network/_multilayer_perceptron.py:691: ConvergenceWarning: Stochastic Optimizer: Maximum iterations (1000) reached and the optimization hasn't converged yet.\n",
      "  warnings.warn(\n"
     ]
    }
   ],
   "source": [
    "import pandas as pd\n",
    "from sklearn.model_selection import train_test_split, RandomizedSearchCV\n",
    "from sklearn.preprocessing import StandardScaler, OneHotEncoder\n",
    "from sklearn.compose import ColumnTransformer\n",
    "from sklearn.pipeline import make_pipeline\n",
    "from sklearn.metrics import accuracy_score\n",
    "from sklearn.tree import DecisionTreeClassifier\n",
    "from sklearn.ensemble import RandomForestClassifier, AdaBoostClassifier\n",
    "from sklearn.neural_network import MLPClassifier\n",
    "\n",
    "# Load and preprocess your data\n",
    "data_path = './simplified_coffee.csv'\n",
    "coffee_data = pd.read_excel(\"/Users/krishnavarma/Developer/UG AI MATERIAL /4th SEM COURSE/ML/ML CLG PR.CODES!/A7 ML/simplified_coffee.xlsx\")\n",
    "\n",
    "X_data = coffee_data.drop(['name', 'rating', 'review_date', 'review'], axis=1)\n",
    "y_data = coffee_data['rating']\n",
    "num_features = ['100g_USD']\n",
    "cat_features = ['roaster', 'roast', 'loc_country', 'origin']\n",
    "\n",
    "preprocessor = ColumnTransformer(\n",
    "    transformers=[\n",
    "        ('num', StandardScaler(), num_features),\n",
    "        ('cat', OneHotEncoder(handle_unknown='ignore'), cat_features)])\n",
    "\n",
    "X_train, X_test, y_train, y_test = train_test_split(X_data, y_data, test_size=0.2, random_state=42)\n",
    "\n",
    "# Decision Tree\n",
    "dt_pipeline = make_pipeline(preprocessor, DecisionTreeClassifier(random_state=42))\n",
    "dt_pipeline.fit(X_train, y_train)\n",
    "dt_predictions = dt_pipeline.predict(X_test)\n",
    "print(f\"Decision Tree Accuracy: {accuracy_score(y_test, dt_predictions)}\")\n",
    "\n",
    "# Random Forest\n",
    "rf_pipeline = make_pipeline(preprocessor, RandomForestClassifier(random_state=42))\n",
    "rf_pipeline.fit(X_train, y_train)\n",
    "rf_predictions = rf_pipeline.predict(X_test)\n",
    "print(f\"Random Forest Accuracy: {accuracy_score(y_test, rf_predictions)}\")\n",
    "\n",
    "# AdaBoost\n",
    "ab_pipeline = make_pipeline(preprocessor, AdaBoostClassifier(random_state=42))\n",
    "ab_pipeline.fit(X_train, y_train)\n",
    "ab_predictions = ab_pipeline.predict(X_test)\n",
    "print(f\"AdaBoost Accuracy: {accuracy_score(y_test, ab_predictions)}\")\n",
    "\n",
    "# MLP with RandomizedSearchCV\n",
    "mlp_pipeline = make_pipeline(preprocessor, MLPClassifier(max_iter=1000, random_state=42))\n",
    "param_dist_mlp = {\n",
    "    'mlpclassifier__hidden_layer_sizes': [(50,), (100,)],\n",
    "    'mlpclassifier__activation': ['tanh', 'relu'],\n",
    "}\n",
    "\n",
    "rnd_search_mlp = RandomizedSearchCV(mlp_pipeline, param_distributions=param_dist_mlp,\n",
    "                                    n_iter=5, cv=3, scoring='accuracy', random_state=42)\n",
    "rnd_search_mlp.fit(X_train, y_train)\n",
    "print(f\"MLP Best Score: {rnd_search_mlp.best_score_}\")\n",
    "print(f\"MLP Best Params: {rnd_search_mlp.best_params_}\")\n"
   ]
  }
 ],
 "metadata": {
  "kernelspec": {
   "display_name": "Python 3",
   "language": "python",
   "name": "python3"
  },
  "language_info": {
   "codemirror_mode": {
    "name": "ipython",
    "version": 3
   },
   "file_extension": ".py",
   "mimetype": "text/x-python",
   "name": "python",
   "nbconvert_exporter": "python",
   "pygments_lexer": "ipython3",
   "version": "3.11.7"
  }
 },
 "nbformat": 4,
 "nbformat_minor": 2
}
